{
 "cells": [
  {
   "cell_type": "code",
   "execution_count": 1036,
   "metadata": {},
   "outputs": [],
   "source": [
    "# Libraries\n",
    "import numpy as np\n",
    "import pandas as pd\n",
    "\n",
    "# Functions\n",
    "def K_Function(Var_Bool, Var_max, Var_min):\n",
    "    \"\"\"Summary of Function:\n",
    "    Returns the K value used in logistic equation\n",
    "    \n",
    "    Parameters:\n",
    "        Var_Bool (boolean): Check if the variable is part of Section 1 of the model\n",
    "        Var_max (double): Relative maximum of where upper platue starts of the variable\n",
    "        Var_min (double): Relative minimum of where lower platue starts of the variable\n",
    "    \n",
    "    \n",
    "    Returns:\n",
    "        double: K value used in logistic equation\n",
    "    \"\"\"\n",
    "    \n",
    "    if Var_Bool:\n",
    "        return -(np.log(100/(99.9)-1)/(Var_max - Var_min))\n",
    "\n",
    "    return -(np.log(100/(99.9)-1)/(Var_max - Var_min))\n",
    "\n",
    "def logistic_function(fboolean, Var_max, Var_min, x):\n",
    "    \"\"\"Summary of Function:\n",
    "    Returns the logistically normalized value of x\n",
    "    \n",
    "    Parameters:\n",
    "        Var_Bool (boolean): Check if the variable is part of Section 1 of the model\n",
    "        Var_max (double): Relative maximum of where upper platue starts of the variable\n",
    "        Var_min (double): Relative minimum of where lower platue starts of the variable\n",
    "        x (double): Input value that is normalized\n",
    "    \n",
    "    \n",
    "    Returns:\n",
    "        double: Logistically normalized value of x based on specific upper and lower set platue regions\n",
    "    \"\"\"\n",
    "    \n",
    "    if fboolean:\n",
    "        return (100/(1+np.exp(-K_Function(fboolean, Var_max, Var_min)*(x-Var_min))))\n",
    "    return (100/(1+np.exp(-K_Function(fboolean, Var_max, Var_min)*(x-Var_min))))\n",
    "\n",
    "def Inverse_Logistic_Function(Var_max, Var_min, x):\n",
    "    \"\"\"Summary of Function:\n",
    "    Returns the inverse logistically normalized value of age input\n",
    "    \n",
    "    Parameters:\n",
    "        Var_max (double): Relative maximum of where lower platue starts of the variable\n",
    "        Var_min (double): Relative minimum of where upper platue starts of the variable\n",
    "        x (double): Age of official owner of pet\n",
    "    \n",
    "    \n",
    "    Returns:\n",
    "        double: Inverse logistically normalized value of x based on specific upper and lower set platue regions\n",
    "    \"\"\"\n",
    "    \n",
    "    return (200/(1+np.exp((np.log(200/(99.9+100)-1)/(Var_max - Var_min))*(-x+Var_max)))) - 100\n",
    "\n",
    "def Squared_Function(x):\n",
    "    \"\"\"Summary of Function:\n",
    "    Returns the squared normalized value of time flexibility input\n",
    "    \n",
    "    Parameters:\n",
    "        x (double): Flexibility input of household\n",
    "    \n",
    "    \n",
    "    Returns:\n",
    "        double: Squared normalized value of x\n",
    "    \"\"\"\n",
    "    \n",
    "    return ((x/100)**2)*100\n",
    "\n"
   ]
  },
  {
   "cell_type": "code",
   "execution_count": 1037,
   "metadata": {},
   "outputs": [],
   "source": [
    "# Dataframe for upper and lower maximums and minimums of where logistic normalization platue starts for MEI, ET, LS, CH, PK, AOO  \n",
    "Cat_Requirements_Data = pd.read_csv(\"Cat/Upper Lower.csv\", index_col=0)\n",
    "\n",
    "# Dataframe for Time Intensity Weights of ET, LS, MEI, PK, PC: Stored in Cat_Time_Intensity_Percentage\n",
    "Cat_Time_Intensity_Percentage = pd.read_csv(\"Cat/Time Intensity.csv\")\n",
    "\n",
    "# Dataframe for Cost of Living Weights of MEI, LS, TF, CH\n",
    "Cat_Cost_of_Living_Percentage = pd.read_csv(\"Cat/Cost of Living.csv\")\n",
    "\n",
    "# Dataframe for Physical Intensity Weights of AOO, PMD: Stored in Cat_Physical_Intensity_Percentage\n",
    "Cat_Physical_Intensity_Percentage = pd.read_csv(\"Cat/Physical Intensity.csv\")\n",
    "\n",
    "# Dataframe for Pet Training Weights for ET, MEI, LS, PK: Stored in Cat_Pet_Training_Percentage\n",
    "Cat_Pet_Training_Percentage = pd.read_csv(\"Cat/Pet Training.csv\")\n",
    "\n",
    "# Dataframe for Owner Capatibility Weights for Cost of Living, Time Intensity, Pet Training, Physical Intensity: Stored in Owner_Capability_Percentage\n",
    "Owner_Capability_Percentage = pd.read_csv(\"Cat/Owner Capatibility.csv\")"
   ]
  },
  {
   "cell_type": "code",
   "execution_count": 1038,
   "metadata": {},
   "outputs": [],
   "source": [
    "#Family inputs dataframe:\n",
    "#   Col: Different families (1-6)\n",
    "#   Row: Different input variables (MEI, Et, TF, LS, PMD, PC, CH, PK, AOO)\n",
    "Family_Inputs = pd.read_csv(\"Sample families 1.csv\", index_col=False)"
   ]
  },
  {
   "cell_type": "code",
   "execution_count": 1039,
   "metadata": {},
   "outputs": [],
   "source": [
    "#Empty Family inputs normalized and standardized (1-100) dataframe:\n",
    "#   Col: Different families (1-6)\n",
    "#   Row: Different input variables (MEI, Et, TF, LS, PMD, PC, CH, PK, AOO)\n",
    "index_labels = [\"MEI\", \"ET\", \"TF\", \"LS\", \"PMD\", \"PC\", \"CH\", \"PK\", \"AOO\"]\n",
    "family_r = {\n",
    "    \"1\" : [0, 0, 0, 0, 0, 0, 0, 0, 0],\n",
    "    \"2\" : [0, 0, 0, 0, 0, 0, 0, 0, 0],\n",
    "    \"3\" : [0, 0, 0, 0, 0, 0, 0, 0, 0],\n",
    "    \"4\" : [0, 0, 0, 0, 0, 0, 0, 0, 0],\n",
    "    \"5\" : [0, 0, 0, 0, 0, 0, 0, 0, 0],\n",
    "    \"6\" : [0, 0, 0, 0, 0, 0, 0, 0, 0]\n",
    "}\n",
    "family_results = pd.DataFrame(family_r, index=index_labels)"
   ]
  },
  {
   "cell_type": "code",
   "execution_count": 1040,
   "metadata": {},
   "outputs": [],
   "source": [
    "# Normalize and Standardize MEI variable for family inputs\n",
    "index = 1-1\n",
    "things_list = []\n",
    "for i in range(len(Family_Inputs.iloc[index])-1):\n",
    "    things_list.append(logistic_function(True, Cat_Requirements_Data[\"MEI\"][1], Cat_Requirements_Data[\"MEI\"][0], Family_Inputs.iloc[index][i+1]))\n",
    "family_results.iloc[index] = things_list"
   ]
  },
  {
   "cell_type": "code",
   "execution_count": 1041,
   "metadata": {},
   "outputs": [
    {
     "name": "stdout",
     "output_type": "stream",
     "text": [
      "[99.99999999999936, 99.99999998072522, 100.0, 3.223818298368281, 100.0, 100.0]\n",
      "             1           2         3           4           5           6\n",
      "MEI   99.60866   98.765959   60.5331  100.000000   77.330857   13.491738\n",
      "ET   100.00000  100.000000  100.0000    3.223818  100.000000  100.000000\n",
      "TF     0.00000    0.000000    0.0000    0.000000    0.000000    0.000000\n",
      "LS     0.00000    0.000000    0.0000    0.000000    0.000000    0.000000\n",
      "PMD    0.00000    0.000000    0.0000    0.000000    0.000000    0.000000\n",
      "PC     0.00000    0.000000    0.0000    0.000000    0.000000    0.000000\n",
      "CH     0.00000    0.000000    0.0000    0.000000    0.000000    0.000000\n",
      "PK     0.00000    0.000000    0.0000    0.000000    0.000000    0.000000\n",
      "AOO    0.00000    0.000000    0.0000    0.000000    0.000000    0.000000\n"
     ]
    }
   ],
   "source": [
    "# Normalize and Standardize ET variable for family inputs\n",
    "index = 2-1\n",
    "things_list = []\n",
    "for i in range(len(Family_Inputs.iloc[index])-1):\n",
    "    things_list.append(logistic_function(True, Cat_Requirements_Data[\"ET\"][1], Cat_Requirements_Data[\"ET\"][0], Family_Inputs.iloc[index][i+1]))\n",
    "print(things_list)\n",
    "family_results.iloc[index] = things_list\n",
    "print(family_results)"
   ]
  },
  {
   "cell_type": "code",
   "execution_count": 1042,
   "metadata": {},
   "outputs": [
    {
     "name": "stdout",
     "output_type": "stream",
     "text": [
      "[4.000000000000001, 4.000000000000001, 100.0, 0.0, 100.0, 100.0]\n",
      "             1           2         3           4           5           6\n",
      "MEI   99.60866   98.765959   60.5331  100.000000   77.330857   13.491738\n",
      "ET   100.00000  100.000000  100.0000    3.223818  100.000000  100.000000\n",
      "TF     4.00000    4.000000  100.0000    0.000000  100.000000  100.000000\n",
      "LS     0.00000    0.000000    0.0000    0.000000    0.000000    0.000000\n",
      "PMD    0.00000    0.000000    0.0000    0.000000    0.000000    0.000000\n",
      "PC     0.00000    0.000000    0.0000    0.000000    0.000000    0.000000\n",
      "CH     0.00000    0.000000    0.0000    0.000000    0.000000    0.000000\n",
      "PK     0.00000    0.000000    0.0000    0.000000    0.000000    0.000000\n",
      "AOO    0.00000    0.000000    0.0000    0.000000    0.000000    0.000000\n"
     ]
    }
   ],
   "source": [
    "# Normalize and Standardize TF variable for family inputs\n",
    "index = 3-1\n",
    "things_list = []\n",
    "for i in range(len(Family_Inputs.iloc[index])-1):\n",
    "    things_list.append(Squared_Function(Family_Inputs.iloc[index][i+1]))\n",
    "print(things_list)\n",
    "family_results.iloc[index] = things_list\n",
    "print(family_results)"
   ]
  },
  {
   "cell_type": "code",
   "execution_count": 1043,
   "metadata": {},
   "outputs": [],
   "source": [
    "# Normalize and Standardize LS variable for family inputs\n",
    "index = 4-1\n",
    "things_list = []\n",
    "for i in range(len(Family_Inputs.iloc[index])-1):\n",
    "    things_list.append(logistic_function(True, Cat_Requirements_Data[\"LS\"][1], Cat_Requirements_Data[\"LS\"][0], Family_Inputs.iloc[index][i+1]))\n",
    "family_results.iloc[index] = things_list"
   ]
  },
  {
   "cell_type": "code",
   "execution_count": 1044,
   "metadata": {},
   "outputs": [],
   "source": [
    "# Normalize and Standardize PMD variable for family inputs\n",
    "index = 5-1\n",
    "things_list = []\n",
    "for i in range(len(Family_Inputs.iloc[index])-1):\n",
    "    things_list.append(Family_Inputs.iloc[index][i+1])\n",
    "family_results.iloc[index] = things_list"
   ]
  },
  {
   "cell_type": "code",
   "execution_count": 1045,
   "metadata": {},
   "outputs": [],
   "source": [
    "# Normalize and Standardize PC variable for family inputs\n",
    "index = 6-1\n",
    "things_list = []\n",
    "for i in range(len(Family_Inputs.iloc[index])-1):\n",
    "    things_list.append(Family_Inputs.iloc[index][i+1])\n",
    "family_results.iloc[index] = things_list"
   ]
  },
  {
   "cell_type": "code",
   "execution_count": 1046,
   "metadata": {},
   "outputs": [],
   "source": [
    "# Normalize and Standardize CH variable for family inputs\n",
    "index = 7-1\n",
    "things_list = []\n",
    "for i in range(len(Family_Inputs.iloc[index])-1):\n",
    "    things_list.append(logistic_function(False, Cat_Requirements_Data[\"CH\"][1], Cat_Requirements_Data[\"CH\"][0], Family_Inputs.iloc[index][i+1]))\n",
    "family_results.iloc[index] = things_list"
   ]
  },
  {
   "cell_type": "code",
   "execution_count": 1047,
   "metadata": {},
   "outputs": [],
   "source": [
    "# Normalize and Standardize PK variable for family inputs\n",
    "index = 8-1\n",
    "things_list = []\n",
    "for i in range(len(Family_Inputs.iloc[index])-1):\n",
    "    things_list.append(logistic_function(False, Cat_Requirements_Data[\"PK\"][1], Cat_Requirements_Data[\"PK\"][0], Family_Inputs.iloc[index][i+1]))\n",
    "family_results.iloc[index] = things_list"
   ]
  },
  {
   "cell_type": "code",
   "execution_count": 1048,
   "metadata": {},
   "outputs": [
    {
     "name": "stdout",
     "output_type": "stream",
     "text": [
      "              1           2           3           4           5           6\n",
      "MEI   99.608660   98.765959   60.533100  100.000000   77.330857   13.491738\n",
      "ET   100.000000  100.000000  100.000000    3.223818  100.000000  100.000000\n",
      "TF     4.000000    4.000000  100.000000    0.000000  100.000000  100.000000\n",
      "LS   100.000000  100.000000   99.999999  100.000000  100.000000   33.557297\n",
      "PMD  100.000000  100.000000  100.000000  100.000000   20.000000  100.000000\n",
      "PC    60.000000   70.000000  100.000000   20.000000   30.000000   60.000000\n",
      "CH    85.856600   17.728746    6.380691   99.900000   95.562413    0.990753\n",
      "PK     0.003167   15.101162   99.900000    0.003167    0.100000   99.900000\n",
      "AOO   98.156097   99.820636   99.423645   89.796597    0.000000   98.806753\n"
     ]
    }
   ],
   "source": [
    "# Normalize and Standardize AOO variable for family inputs\n",
    "index = 9-1\n",
    "things_list = []\n",
    "for i in range(len(Family_Inputs.iloc[index])-1):\n",
    "    if Family_Inputs.iloc[index][i+1] > 70:\n",
    "        things_list.append(0)\n",
    "    else:\n",
    "        things_list.append(Inverse_Logistic_Function(Cat_Requirements_Data[\"AOO\"][1], Cat_Requirements_Data[\"AOO\"][0], Family_Inputs.iloc[index][i+1]))\n",
    "family_results.iloc[index] = things_list\n",
    "print(family_results)"
   ]
  },
  {
   "cell_type": "code",
   "execution_count": 1049,
   "metadata": {},
   "outputs": [],
   "source": [
    "#Empty pet factors standardized (1-100) score dataframe:\n",
    "#   Col: Different families (1-6)\n",
    "#   Row: Different input variables (Time Intensity, Cost of Living, Physical Intensity, Pet Training)\n",
    "df = {\n",
    "    \"1\" : [0, 0, 0, 0],\n",
    "    \"2\" : [0, 0, 0, 0],\n",
    "    \"3\" : [0, 0, 0, 0],\n",
    "    \"4\" : [0, 0, 0, 0],\n",
    "    \"5\" : [0, 0, 0, 0],\n",
    "    \"6\" : [0, 0, 0, 0]\n",
    "}\n",
    "Family_Pet_Factors = pd.DataFrame(df, index=[\"Time Intensity\", \"Cost of Living\", \"Physical Intensity\", \"Pet Training\"])"
   ]
  },
  {
   "cell_type": "code",
   "execution_count": 1050,
   "metadata": {},
   "outputs": [],
   "source": [
    "#Standardized Time Intensity Score of Each Family using weights for ET, LS, MEI, PK, PC\n",
    "Time_Intensity = []\n",
    "for i in range(len(family_results.iloc[0])):\n",
    "    sum = 0\n",
    "    for ii in Cat_Time_Intensity_Percentage.columns.values.tolist():\n",
    "        sum += (family_results.iloc[:, i].loc[ii]*Cat_Time_Intensity_Percentage[ii][0])\n",
    "    Time_Intensity.append(sum)\n",
    "Family_Pet_Factors.iloc[0] = Time_Intensity"
   ]
  },
  {
   "cell_type": "code",
   "execution_count": 1051,
   "metadata": {},
   "outputs": [
    {
     "name": "stdout",
     "output_type": "stream",
     "text": [
      "[83.11092196652424, 68.21019405670106, 65.84375171209068, 85.68857, 90.95387419559799, 28.907537623988297]\n",
      "      MEI      LS      TF      CH\n",
      "0  0.3571  0.2857  0.1429  0.2143\n",
      "                            1          2          3         4          5  \\\n",
      "Time Intensity      73.271467  77.596764  93.398647  42.00828  66.246274   \n",
      "Cost of Living      83.110922  68.210194  65.843752  85.68857  90.953874   \n",
      "Physical Intensity   0.000000   0.000000   0.000000   0.00000   0.000000   \n",
      "Pet Training         0.000000   0.000000   0.000000   0.00000   0.000000   \n",
      "\n",
      "                            6  \n",
      "Time Intensity      66.349284  \n",
      "Cost of Living      28.907538  \n",
      "Physical Intensity   0.000000  \n",
      "Pet Training         0.000000  \n"
     ]
    }
   ],
   "source": [
    "#Standardized Cost of Living Score of Each Family using weights for MEI, LS, TF, CH\n",
    "Cost_of_Living = []\n",
    "for i in range(len(family_results.iloc[0])):\n",
    "    sum = 0\n",
    "    for ii in Cat_Cost_of_Living_Percentage.columns.values.tolist():\n",
    "        sum += (family_results.iloc[:, i].loc[ii]*Cat_Cost_of_Living_Percentage[ii][0])\n",
    "    Cost_of_Living.append(sum)\n",
    "print(Cost_of_Living)\n",
    "print(Cat_Cost_of_Living_Percentage)\n",
    "Family_Pet_Factors.iloc[1] = Cost_of_Living\n",
    "print(Family_Pet_Factors)"
   ]
  },
  {
   "cell_type": "code",
   "execution_count": 1052,
   "metadata": {},
   "outputs": [
    {
     "name": "stdout",
     "output_type": "stream",
     "text": [
      "[99.30853644304072, 99.932738354746, 99.78386696428642, 96.17372388443968, 12.5, 99.55253251633555]\n",
      "                            1          2          3          4          5  \\\n",
      "Time Intensity      73.271467  77.596764  93.398647  42.008280  66.246274   \n",
      "Cost of Living      83.110922  68.210194  65.843752  85.688570  90.953874   \n",
      "Physical Intensity  99.308536  99.932738  99.783867  96.173724  12.500000   \n",
      "Pet Training         0.000000   0.000000   0.000000   0.000000   0.000000   \n",
      "\n",
      "                            6  \n",
      "Time Intensity      66.349284  \n",
      "Cost of Living      28.907538  \n",
      "Physical Intensity  99.552533  \n",
      "Pet Training         0.000000  \n"
     ]
    }
   ],
   "source": [
    "#Standardized Physical Intensity Score of Each Family using weights for PMD, AOO\n",
    "Physical_Intensity = []\n",
    "for i in range(len(family_results.iloc[0])):\n",
    "    sum = 0\n",
    "    for ii in Cat_Physical_Intensity_Percentage.columns.values.tolist():\n",
    "        sum += (family_results.iloc[:, i].loc[ii]*Cat_Physical_Intensity_Percentage[ii][0])\n",
    "    Physical_Intensity.append(sum)\n",
    "print(Physical_Intensity)\n",
    "Family_Pet_Factors.iloc[2] = Physical_Intensity\n",
    "print(Family_Pet_Factors)"
   ]
  },
  {
   "cell_type": "code",
   "execution_count": 1053,
   "metadata": {},
   "outputs": [
    {
     "name": "stdout",
     "output_type": "stream",
     "text": [
      "[74.90295673657619, 78.46678022811997, 90.10827469091616, 44.75823494991894, 69.35771430284117, 65.88992758139622]\n",
      "                            1          2          3          4          5  \\\n",
      "Time Intensity      73.271467  77.596764  93.398647  42.008280  66.246274   \n",
      "Cost of Living      83.110922  68.210194  65.843752  85.688570  90.953874   \n",
      "Physical Intensity  99.308536  99.932738  99.783867  96.173724  12.500000   \n",
      "Pet Training        74.902957  78.466780  90.108275  44.758235  69.357714   \n",
      "\n",
      "                            6  \n",
      "Time Intensity      66.349284  \n",
      "Cost of Living      28.907538  \n",
      "Physical Intensity  99.552533  \n",
      "Pet Training        65.889928  \n"
     ]
    }
   ],
   "source": [
    "#Standardized Pet Training Score of Each Family using weights for ET, MEI, LS, PK\n",
    "Pet_Training = []\n",
    "for i in range(len(family_results.iloc[0])):\n",
    "    sum = 0\n",
    "    for ii in Cat_Pet_Training_Percentage.columns.values.tolist():\n",
    "        sum += (family_results.iloc[:, i].loc[ii]*Cat_Pet_Training_Percentage[ii][0])\n",
    "    Pet_Training.append(sum)\n",
    "print(Pet_Training)\n",
    "Family_Pet_Factors.iloc[3] = Pet_Training\n",
    "print(Family_Pet_Factors)"
   ]
  },
  {
   "cell_type": "code",
   "execution_count": 1054,
   "metadata": {},
   "outputs": [
    {
     "name": "stdout",
     "output_type": "stream",
     "text": [
      "[82.84436695515708, 73.30326322029097, 74.58422374743736, 78.13852519810034, 78.32253873663082, 43.43741857255113]\n"
     ]
    }
   ],
   "source": [
    "#Standardized Final Evaluation Score of Each Family Using Weights for Time Intensity, Cost of Living, Physical Intensity, Pet Training\n",
    "Final_Evaluation = []\n",
    "for i in range(len(Family_Pet_Factors.iloc[0])):\n",
    "    sum = 0;\n",
    "    for ii in Owner_Capability_Percentage.columns.values.tolist():\n",
    "        sum += (Family_Pet_Factors.iloc[:, i].loc[ii]*Owner_Capability_Percentage[ii][0])\n",
    "    Final_Evaluation.append(sum)\n",
    "print(Final_Evaluation)\n"
   ]
  },
  {
   "cell_type": "code",
   "execution_count": 1055,
   "metadata": {},
   "outputs": [
    {
     "name": "stdout",
     "output_type": "stream",
     "text": [
      "   Household 0  Household 1  Household 2  Household 3  Household 4  \\\n",
      "0    82.844367    73.303263    74.584224    78.138525    78.322539   \n",
      "\n",
      "   Household 5  \n",
      "0    43.437419  \n"
     ]
    }
   ],
   "source": [
    "# Saves evaluation score to dataframe\n",
    "df = pd.DataFrame()\n",
    "for i in range(len(Final_Evaluation)):\n",
    "    df[\"Household \" + str(i)] = [Final_Evaluation[i]]\n",
    "print(df)"
   ]
  },
  {
   "cell_type": "code",
   "execution_count": 1056,
   "metadata": {},
   "outputs": [],
   "source": [
    "# Saves evaluation score dataframe to csv\n",
    "df.to_csv(\"Cat/Cat Pet Sample Families Results.csv\", index=False)"
   ]
  },
  {
   "cell_type": "code",
   "execution_count": null,
   "metadata": {},
   "outputs": [],
   "source": []
  }
 ],
 "metadata": {
  "kernelspec": {
   "display_name": "SAS",
   "language": "python",
   "name": "python3"
  },
  "language_info": {
   "codemirror_mode": {
    "name": "ipython",
    "version": 3
   },
   "file_extension": ".py",
   "mimetype": "text/x-python",
   "name": "python",
   "nbconvert_exporter": "python",
   "pygments_lexer": "ipython3",
   "version": "3.8.13"
  }
 },
 "nbformat": 4,
 "nbformat_minor": 2
}
